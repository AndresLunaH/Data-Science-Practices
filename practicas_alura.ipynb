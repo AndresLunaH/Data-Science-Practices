{
 "cells": [
  {
   "cell_type": "markdown",
   "id": "b5616634",
   "metadata": {},
   "source": [
    "Data Science Practices"
   ]
  },
  {
   "cell_type": "code",
   "execution_count": 8,
   "id": "7ca6af85",
   "metadata": {},
   "outputs": [
    {
     "name": "stdout",
     "output_type": "stream",
     "text": [
      "Hola mew\n"
     ]
    }
   ],
   "source": [
    "nombre= input(\"Escribe tu nombre\")\n",
    "print ('Hola',nombre)"
   ]
  },
  {
   "cell_type": "markdown",
   "id": "e377c12a",
   "metadata": {},
   "source": [
    "Crea un programa que solicite al usuario que escriba su nombre, edad y altura en metros, y luego imprima \"Hola, [nombre], tienes [edad] años y mides [altura] metros.\""
   ]
  },
  {
   "cell_type": "code",
   "execution_count": null,
   "id": "8dcd3dc5",
   "metadata": {},
   "outputs": [],
   "source": [
    "nombre=input(\"Escribe tu nombre\")\n",
    "edad=input(\"Escribe tu edad\")\n",
    "altura=input(\"Escribe tu altura\")\n",
    "print ( f'Hola, {nombre}, tienes {edad} años y mides {altura} metros')"
   ]
  },
  {
   "cell_type": "markdown",
   "id": "6d3a1e7b",
   "metadata": {},
   "source": [
    "If fuction"
   ]
  },
  {
   "cell_type": "code",
   "execution_count": 7,
   "id": "75530fbd",
   "metadata": {},
   "outputs": [
    {
     "name": "stdout",
     "output_type": "stream",
     "text": [
      "Reprobo\n"
     ]
    }
   ],
   "source": [
    "nota= float(input ('Digita la nota:'))\n",
    "if nota >= 7:\n",
    "    print('Aprobo')\n",
    "else:\n",
    "    print('Reprobo')\n"
   ]
  }
 ],
 "metadata": {
  "kernelspec": {
   "display_name": "Python 3",
   "language": "python",
   "name": "python3"
  },
  "language_info": {
   "codemirror_mode": {
    "name": "ipython",
    "version": 3
   },
   "file_extension": ".py",
   "mimetype": "text/x-python",
   "name": "python",
   "nbconvert_exporter": "python",
   "pygments_lexer": "ipython3",
   "version": "3.13.9"
  }
 },
 "nbformat": 4,
 "nbformat_minor": 5
}
