{
 "cells": [
  {
   "cell_type": "markdown",
   "id": "b5616634",
   "metadata": {},
   "source": [
    "Data Science Practices"
   ]
  },
  {
   "cell_type": "code",
   "execution_count": 5,
   "id": "7ca6af85",
   "metadata": {},
   "outputs": [
    {
     "name": "stdout",
     "output_type": "stream",
     "text": [
      "Hola mew\n"
     ]
    }
   ],
   "source": [
    "nombre= input(\"Escribe tu nombre\")\n",
    "print ('Hola',nombre)"
   ]
  },
  {
   "cell_type": "markdown",
   "id": "e377c12a",
   "metadata": {},
   "source": [
    "Crea un programa que solicite al usuario que escriba su nombre, edad y altura en metros, y luego imprima \"Hola, [nombre], tienes [edad] años y mides [altura] metros.\""
   ]
  },
  {
   "cell_type": "code",
   "execution_count": 6,
   "id": "8dcd3dc5",
   "metadata": {},
   "outputs": [
    {
     "name": "stdout",
     "output_type": "stream",
     "text": [
      "Hola, mew, tienes 19 años y mides 28 metros\n"
     ]
    }
   ],
   "source": [
    "nombre=input(\"Escribe tu nombre\")\n",
    "edad=input(\"Escribe tu edad\")\n",
    "altura=input(\"Escribe tu altura\")\n",
    "print ( f'Hola, {nombre}, tienes {edad} años y mides {altura} metros')"
   ]
  },
  {
   "cell_type": "markdown",
   "id": "6d3a1e7b",
   "metadata": {},
   "source": [
    "Genera mas contenido relacionado"
   ]
  }
 ],
 "metadata": {
  "kernelspec": {
   "display_name": "Python 3",
   "language": "python",
   "name": "python3"
  },
  "language_info": {
   "codemirror_mode": {
    "name": "ipython",
    "version": 3
   },
   "file_extension": ".py",
   "mimetype": "text/x-python",
   "name": "python",
   "nbconvert_exporter": "python",
   "pygments_lexer": "ipython3",
   "version": "3.13.9"
  }
 },
 "nbformat": 4,
 "nbformat_minor": 5
}
