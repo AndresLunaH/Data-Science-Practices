{
 "cells": [
  {
   "cell_type": "markdown",
   "id": "b5616634",
   "metadata": {},
   "source": [
    "Data Science Practices"
   ]
  },
  {
   "cell_type": "code",
   "execution_count": 8,
   "id": "7ca6af85",
   "metadata": {},
   "outputs": [
    {
     "name": "stdout",
     "output_type": "stream",
     "text": [
      "Hola mew\n"
     ]
    }
   ],
   "source": [
    "nombre= input(\"Escribe tu nombre\")\n",
    "print ('Hola',nombre)"
   ]
  },
  {
   "cell_type": "markdown",
   "id": "e377c12a",
   "metadata": {},
   "source": [
    "Crea un programa que solicite al usuario que escriba su nombre, edad y altura en metros, y luego imprima \"Hola, [nombre], tienes [edad] años y mides [altura] metros.\""
   ]
  },
  {
   "cell_type": "code",
   "execution_count": 9,
   "id": "8dcd3dc5",
   "metadata": {},
   "outputs": [
    {
     "name": "stdout",
     "output_type": "stream",
     "text": [
      "Hola, mew, tienes 12 años y mides 1 metros\n"
     ]
    }
   ],
   "source": [
    "nombre=input(\"Escribe tu nombre\")\n",
    "edad=input(\"Escribe tu edad\")\n",
    "altura=input(\"Escribe tu altura\")\n",
    "print ( f'Hola, {nombre}, tienes {edad} años y mides {altura} metros')"
   ]
  },
  {
   "cell_type": "markdown",
   "id": "6d3a1e7b",
   "metadata": {},
   "source": [
    "If fuction"
   ]
  },
  {
   "cell_type": "code",
   "execution_count": 10,
   "id": "75530fbd",
   "metadata": {},
   "outputs": [
    {
     "name": "stdout",
     "output_type": "stream",
     "text": [
      "Reprobo\n"
     ]
    }
   ],
   "source": [
    "nota= float(input ('Digita la nota:'))\n",
    "if nota >= 7:\n",
    "    print('Aprobo')\n",
    "else:\n",
    "    print('Reprobo')\n"
   ]
  },
  {
   "cell_type": "markdown",
   "id": "d2553632",
   "metadata": {},
   "source": [
    "Escribe un programa que solicite el porcentaje de crecimiento de producción de una empresa e informe si hubo un crecimiento (porcentaje positivo) o una disminución (porcentaje negativo)."
   ]
  },
  {
   "cell_type": "code",
   "execution_count": 11,
   "id": "328a5b1a",
   "metadata": {},
   "outputs": [
    {
     "name": "stdout",
     "output_type": "stream",
     "text": [
      "No hubo crecimiento.\n"
     ]
    }
   ],
   "source": [
    "productionporcent = float(input('Ingresa el porcentaje'))\n",
    "if productionporcent > 0: \n",
    "    print('Hubo crecimiento')\n",
    "else: \n",
    "   print('No hubo crecimiento.')"
   ]
  },
  {
   "cell_type": "markdown",
   "id": "52f52a4d",
   "metadata": {},
   "source": [
    " Escribe un programa que determine si una letra proporcionada por la persona usuaria es una vocal o una consonante."
   ]
  },
  {
   "cell_type": "code",
   "execution_count": 12,
   "id": "20b33ad5",
   "metadata": {},
   "outputs": [
    {
     "name": "stdout",
     "output_type": "stream",
     "text": [
      "Consonante\n"
     ]
    }
   ],
   "source": [
    "def clasificar_letra(ch: str) -> str:\n",
    "    ch = ch.strip()\n",
    "    if len(ch) != 1 or not ch.isalpha():\n",
    "        return \"Entrada no válida: ingresa una sola letra.\"\n",
    "    return \"Vocal\" if ch.lower() in {\"a\", \"e\", \"i\", \"o\", \"u\"} else \"Consonante\"\n",
    "\n",
    "# Ejecución interactiva\n",
    "letra = input(\"Ingresa una letra: \")\n",
    "print(clasificar_letra(letra))\n"
   ]
  },
  {
   "cell_type": "markdown",
   "id": "fe43b194",
   "metadata": {},
   "source": [
    "Crea un programa que tenga la siguiente lista con los gastos de una empresa de papel [2172.54, 3701.35, 3518.09, 3456.61, 3249.38, 2840.82, 3891.45, 3075.26, 2317.64, 3219.08]. Con estos valores, crea un programa que calcule el promedio de gastos. Sugerencia: usa las funciones integradas sum() y len()."
   ]
  },
  {
   "cell_type": "code",
   "execution_count": 13,
   "id": "84d4f79e",
   "metadata": {},
   "outputs": [
    {
     "name": "stdout",
     "output_type": "stream",
     "text": [
      "2.220000000001164\n"
     ]
    }
   ],
   "source": [
    "listaEmpresadepapel=[2172.54, 3701.35, 3518.09, 3456.61, 3249.38, 2840.82, 3891.45, 3075.26, 2317.64, 3219.08]\n",
    "totalListapapel= sum(listaEmpresadepapel)\n",
    "numerodeNumeros=len(listaEmpresadepapel)\n",
    "promedio= totalListapapel % numerodeNumeros\n",
    "print(promedio)"
   ]
  },
  {
   "cell_type": "markdown",
   "id": "a04613d9",
   "metadata": {},
   "source": [
    " Crea un programa que, al ingresar un número cualquiera, genere una lista que contenga todos los números primos entre 1 y el número ingresado."
   ]
  },
  {
   "cell_type": "code",
   "execution_count": 15,
   "id": "d24b8238",
   "metadata": {},
   "outputs": [
    {
     "name": "stdout",
     "output_type": "stream",
     "text": [
      "[2, 3, 5, 7, 11]\n"
     ]
    }
   ],
   "source": [
    "def primos_hasta(n: int) -> list[int]:\n",
    "    if n < 2:\n",
    "        return []\n",
    "    es_primo = [True] * (n + 1)\n",
    "    es_primo[0] = es_primo[1] = False\n",
    "    p = 2\n",
    "    while p * p <= n:\n",
    "        if es_primo[p]:\n",
    "            for multiple in range(p * p, n + 1, p):\n",
    "                es_primo[multiple] = False\n",
    "        p += 1\n",
    "    return [i for i in range(2, n + 1) if es_primo[i]]\n",
    "\n",
    "# Ejemplo de uso:\n",
    "n = int(input(\"Ingresa un número: \"))\n",
    "print(primos_hasta(n))\n"
   ]
  }
 ],
 "metadata": {
  "kernelspec": {
   "display_name": "Python 3",
   "language": "python",
   "name": "python3"
  },
  "language_info": {
   "codemirror_mode": {
    "name": "ipython",
    "version": 3
   },
   "file_extension": ".py",
   "mimetype": "text/x-python",
   "name": "python",
   "nbconvert_exporter": "python",
   "pygments_lexer": "ipython3",
   "version": "3.13.9"
  }
 },
 "nbformat": 4,
 "nbformat_minor": 5
}
